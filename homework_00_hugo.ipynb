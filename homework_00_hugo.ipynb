{
 "cells": [
  {
   "cell_type": "code",
   "execution_count": null,
   "metadata": {
    "collapsed": true
   },
   "outputs": [],
   "source": []
  },
  {
   "cell_type": "code",
   "execution_count": 7,
   "metadata": {},
   "outputs": [
    {
     "data": {
      "text/html": [
       "<h1>Intro to data structure</h1>\n",
       "<br/>\n",
       "We’ll start with a quick, non-comprehensive overview of the fundamental data structures in pandas to get you started. The fundamental behavior about data types, indexing, and axis labeling / alignment apply across all of the objects. \n",
       "To get started, import numpy and load pandas into your namespace:"
      ],
      "text/plain": [
       "<IPython.core.display.HTML object>"
      ]
     },
     "metadata": {},
     "output_type": "display_data"
    }
   ],
   "source": [
    "%%HTML\n",
    "<h1>Intro to data structure</h1>\n",
    "<br/>\n",
    "We’ll start with a quick, non-comprehensive overview of the fundamental data structures in pandas to get you started. The fundamental behavior about data types, indexing, and axis labeling / alignment apply across all of the objects. \n",
    "To get started, import numpy and load pandas into your namespace:"
   ]
  },
  {
   "cell_type": "code",
   "execution_count": 9,
   "metadata": {},
   "outputs": [],
   "source": [
    "import numpy as np\n",
    "import pandas as pd"
   ]
  },
  {
   "cell_type": "code",
   "execution_count": 10,
   "metadata": {},
   "outputs": [
    {
     "data": {
      "text/html": [
       "<h2>Series</h2>\n",
       "<br/><br/>\n",
       "Series is a one-dimensional labeled array capable of holding any data type (integers, strings, floating point numbers, Python objects, etc.). The axis labels are collectively referred to as the index. The basic method to create a Series is to call:\n",
       "A key difference between Series and ndarray is that operations between Series automatically align the data based on label. Thus, you can write computations without giving consideration to whether the Series involved have the same labels.\n",
       "\n",
       "    "
      ],
      "text/plain": [
       "<IPython.core.display.HTML object>"
      ]
     },
     "metadata": {},
     "output_type": "display_data"
    }
   ],
   "source": [
    "%%HTML\n",
    "<h2>Series</h2>\n",
    "<br/><br/>\n",
    "Series is a one-dimensional labeled array capable of holding any data type (integers, strings, floating point numbers, Python objects, etc.). The axis labels are collectively referred to as the index. The basic method to create a Series is to call:\n",
    "A key difference between Series and ndarray is that operations between Series automatically align the data based on label. Thus, you can write computations without giving consideration to whether the Series involved have the same labels.\n",
    "\n",
    "    "
   ]
  },
  {
   "cell_type": "code",
   "execution_count": 11,
   "metadata": {},
   "outputs": [
    {
     "name": "stdout",
     "output_type": "stream",
     "text": [
      "a    1\n",
      "b    2\n",
      "c    3\n",
      "d    4\n",
      "e    5\n",
      "dtype: int64\n"
     ]
    }
   ],
   "source": [
    "s = pd.Series([1,2,3,4,5], ['a','b','c','d','e'])\n",
    "print(s)\n",
    "\n"
   ]
  },
  {
   "cell_type": "code",
   "execution_count": 17,
   "metadata": {},
   "outputs": [
    {
     "name": "stdout",
     "output_type": "stream",
     "text": [
      "0    0.0\n",
      "1    0.0\n",
      "2    0.0\n",
      "3    0.0\n",
      "4    0.0\n",
      "dtype: float64\n"
     ]
    },
    {
     "data": {
      "text/plain": [
       "' only one dim : pd.Series(np.zeros(1,5)) => not working '"
      ]
     },
     "execution_count": 17,
     "metadata": {},
     "output_type": "execute_result"
    }
   ],
   "source": [
    "print(pd.Series(np.zeros(5)))\n",
    "\"\"\" only one dim : pd.Series(np.zeros(1,5)) => not working \"\"\"\n"
   ]
  },
  {
   "cell_type": "code",
   "execution_count": 23,
   "metadata": {},
   "outputs": [
    {
     "name": "stdout",
     "output_type": "stream",
     "text": [
      "apple     3\n",
      "banana    5\n",
      "orange    7\n",
      "dtype: int64\n",
      "\n",
      "\n",
      "banana       5.0\n",
      "banana       5.0\n",
      "orange       7.0\n",
      "apple        3.0\n",
      "pineapple    NaN\n",
      "dtype: float64\n"
     ]
    }
   ],
   "source": [
    "myDict = {'banana' : 5, 'apple':3, 'orange':7}\n",
    "\n",
    "\"\"\" No index provided => unwrapped\"\"\"\n",
    "fruits = pd.Series(myDict);\n",
    "\"\"\" Index provided => unwrapped\"\"\"\n",
    "shoppingCart = pd.Series(myDict, \n",
    "            ['banana', 'banana', 'orange', 'apple', 'pineapple'])\n",
    "\n",
    "print(fruits)\n",
    "print(\"\\n\")\n",
    "print(shoppingCart)\n",
    "\n"
   ]
  },
  {
   "cell_type": "code",
   "execution_count": 20,
   "metadata": {},
   "outputs": [
    {
     "name": "stdout",
     "output_type": "stream",
     "text": [
      "a    5\n",
      "b    5\n",
      "c    5\n",
      "dtype: int64\n"
     ]
    }
   ],
   "source": [
    "print(pd.Series(5, index=['a','b','c']))"
   ]
  },
  {
   "cell_type": "code",
   "execution_count": 25,
   "metadata": {},
   "outputs": [
    {
     "name": "stdout",
     "output_type": "stream",
     "text": [
      "banana       5.0\n",
      "banana       5.0\n",
      "orange       7.0\n",
      "apple        3.0\n",
      "pineapple    NaN\n",
      "dtype: float64\n",
      "\n",
      "\n",
      "banana    5.0\n",
      "banana    5.0\n",
      "dtype: float64\n",
      "\n",
      "\n",
      "orange    7.0\n",
      "dtype: float64\n",
      "\n",
      "\n",
      "banana    5.0\n",
      "apple     3.0\n",
      "dtype: float64\n",
      "\n",
      "\n",
      "banana        148.413159\n",
      "banana        148.413159\n",
      "orange       1096.633158\n",
      "apple          20.085537\n",
      "pineapple            NaN\n",
      "dtype: float64\n"
     ]
    }
   ],
   "source": [
    "print(shoppingCart)\n",
    "print(\"\\n\")\n",
    "print(shoppingCart[:2])\n",
    "print(\"\\n\")\n",
    "print(shoppingCart[shoppingCart>shoppingCart.median()])\n",
    "print(\"\\n\")\n",
    "print(shoppingCart[[1,3]])\n",
    "print(\"\\n\")\n",
    "print(np.exp(shoppingCart))\n",
    "\n"
   ]
  },
  {
   "cell_type": "code",
   "execution_count": 34,
   "metadata": {},
   "outputs": [
    {
     "name": "stdout",
     "output_type": "stream",
     "text": [
      "banana    5.0\n",
      "banana    5.0\n",
      "dtype: float64\n",
      "-----\n",
      "-----\n",
      "banana    111.0\n",
      "banana    111.0\n",
      "dtype: float64\n",
      "-----\n",
      "True\n",
      "-----\n",
      "error\n"
     ]
    }
   ],
   "source": [
    "shoppingCart['banana'] = 5\n",
    "print(shoppingCart['banana'])\n",
    "print(\"-----\")\n",
    "shoppingCart['banana'] = 111\n",
    "print(\"-----\")\n",
    "print(shoppingCart['banana'])\n",
    "print(\"-----\")\n",
    "print('banana' in shoppingCart)\n",
    "print(\"-----\")\n",
    "try :\n",
    "    print(shoppingCart['inexistingKey'])\n",
    "except:\n",
    "    print(\"error\")\n"
   ]
  },
  {
   "cell_type": "code",
   "execution_count": 36,
   "metadata": {},
   "outputs": [
    {
     "name": "stdout",
     "output_type": "stream",
     "text": [
      "banana       111.0\n",
      "banana       111.0\n",
      "orange         7.0\n",
      "apple          3.0\n",
      "pineapple      NaN\n",
      "dtype: float64\n",
      "\n",
      "\n",
      "banana       222.0\n",
      "banana       222.0\n",
      "orange        14.0\n",
      "apple          6.0\n",
      "pineapple      NaN\n",
      "dtype: float64\n",
      "\n",
      "\n",
      "banana       222.0\n",
      "banana       222.0\n",
      "orange        14.0\n",
      "apple          6.0\n",
      "pineapple      NaN\n",
      "dtype: float64\n"
     ]
    }
   ],
   "source": [
    "\n",
    "print(shoppingCart)\n",
    "print(\"\\n\")\n",
    "print(shoppingCart+shoppingCart)\n",
    "print(\"\\n\")\n",
    "print(shoppingCart*2)\n",
    "\n",
    "\n"
   ]
  },
  {
   "cell_type": "code",
   "execution_count": 37,
   "metadata": {},
   "outputs": [
    {
     "data": {
      "text/html": [
       "<h2>DataFrame</h2><br/>\n",
       "<br/>\n",
       "DataFrame is a 2-dimensional labeled data structure with columns of potentially different types. You can think of it like a spreadsheet or SQL table, or a dict of Series objects. It is generally the most commonly used pandas object. Like Series, DataFrame accepts many different kinds of input:\n",
       "Dict of 1D ndarrays, lists, dicts, or Series<br/>\n",
       "<br/>\n",
       "2-D numpy.ndarray<br/>\n",
       "Structured or record ndarray<br/>\n",
       "A Series<br/>\n",
       "Another DataFrame<br/>\n",
       "<br/>\n",
       "Along with the data, you can optionally pass index (row labels) and columns (column labels) arguments. If you pass an index and / or columns, you are guaranteeing the index and / or columns of the resulting DataFrame. Thus, a dict of Series plus a specific index will discard all data not matching up to the passed index.\n",
       "\n",
       "If axis labels are not passed, they will be constructed from the input data based on common sense rules.\n",
       "\n"
      ],
      "text/plain": [
       "<IPython.core.display.HTML object>"
      ]
     },
     "metadata": {},
     "output_type": "display_data"
    }
   ],
   "source": [
    "%%HTML\n",
    "<h2>DataFrame</h2><br/>\n",
    "<br/>\n",
    "DataFrame is a 2-dimensional labeled data structure with columns of potentially different types. You can think of it like a spreadsheet or SQL table, or a dict of Series objects. It is generally the most commonly used pandas object. Like Series, DataFrame accepts many different kinds of input:\n",
    "Dict of 1D ndarrays, lists, dicts, or Series<br/>\n",
    "<br/>\n",
    "2-D numpy.ndarray<br/>\n",
    "Structured or record ndarray<br/>\n",
    "A Series<br/>\n",
    "Another DataFrame<br/>\n",
    "<br/>\n",
    "Along with the data, you can optionally pass index (row labels) and columns (column labels) arguments. If you pass an index and / or columns, you are guaranteeing the index and / or columns of the resulting DataFrame. Thus, a dict of Series plus a specific index will discard all data not matching up to the passed index.\n",
    "\n",
    "If axis labels are not passed, they will be constructed from the input data based on common sense rules.\n",
    "\n",
    "\n"
   ]
  },
  {
   "cell_type": "code",
   "execution_count": 63,
   "metadata": {},
   "outputs": [
    {
     "name": "stdout",
     "output_type": "stream",
     "text": [
      "          clientName  shoppingCart  shoppingCart2  totalItems\n",
      "banana          hugo         111.0          111.0           1\n",
      "banana          hugo         111.0          111.0           1\n",
      "orange          hugo           7.0            7.0           1\n",
      "apple           hugo           3.0            3.0           1\n",
      "pineapple       hugo           NaN            NaN           1\n",
      "\n",
      "\n",
      "   two three\n",
      "d  4.0   NaN\n",
      "b  2.0   NaN\n",
      "a  1.0   NaN\n"
     ]
    }
   ],
   "source": [
    "myDict = {\n",
    "    'clientName' : 'hugo',\n",
    "    'shoppingCart' : shoppingCart,\n",
    "    'shoppingCart2' : shoppingCart,\n",
    "    'totalItems' : 1\n",
    "}\n",
    "\"\"\" \n",
    "all series should have the same index\n",
    "could not add embedded dict (as shoppingCart => transform to Series)\n",
    "\"\"\"\n",
    "\n",
    "df = pd.DataFrame(myDict);\n",
    "\n",
    "print(df);\n",
    "print(\"\\n\");\n",
    "d = {'one' : pd.Series([1., 2., 3.], index=['a', 'b', 'c']),\n",
    "    'two' : pd.Series([1., 2., 3., 4.], index=['a', 'b', 'c', 'd'])}\n",
    "\n",
    "\"\"\"this line does not work : print(pd.DataFrame(myDict, index=['banana']))\"\"\"\n",
    "\n",
    "print(pd.DataFrame(d, index=['d', 'b', 'a'], columns=['two', 'three']))\n"
   ]
  },
  {
   "cell_type": "code",
   "execution_count": 72,
   "metadata": {},
   "outputs": [
    {
     "name": "stdout",
     "output_type": "stream",
     "text": [
      "     myCol\n",
      "one    0.0\n",
      "two    0.0\n"
     ]
    }
   ],
   "source": [
    "matrix = np.zeros(2)\n",
    "zerosDf = pd.DataFrame(matrix, index=[\"one\",\"two\"], columns=['myCol'])\n",
    "print(zerosDf)\n",
    "\n",
    "\n"
   ]
  },
  {
   "cell_type": "code",
   "execution_count": 107,
   "metadata": {},
   "outputs": [
    {
     "data": {
      "text/html": [
       "<h2>STOP AT :</h2> \"From a list of dicts\"\n",
       "<a href=\"https://pandas.pydata.org/pandas-docs/stable/dsintro.html\">tutorial</a>"
      ],
      "text/plain": [
       "<IPython.core.display.HTML object>"
      ]
     },
     "metadata": {},
     "output_type": "display_data"
    }
   ],
   "source": [
    "%%HTML\n",
    "<h2>STOP AT :</h2> \"From a list of dicts\"\n",
    "<a href=\"https://pandas.pydata.org/pandas-docs/stable/dsintro.html\">tutorial</a>\n"
   ]
  },
  {
   "cell_type": "code",
   "execution_count": 110,
   "metadata": {},
   "outputs": [
    {
     "data": {
      "text/html": [
       "<h2>Optional homeworks</h2>\n",
       "For this initial homework we will be training with the gunshot deaths dataset. Get it here. The goal of this optional homework is to use an IPython Notebook to reproduce the results reported in the visualization at the top of the article (e.g., \"nearly two-thirds of gun deaths are suicides\"). It's not necessary to generate visualizations for the results -- numbers should be more than enough to convince yourself that you were able to reproduce the results of that article."
      ],
      "text/plain": [
       "<IPython.core.display.HTML object>"
      ]
     },
     "metadata": {},
     "output_type": "display_data"
    }
   ],
   "source": [
    "%%HTML\n",
    "<h2>Optional homeworks</h2>\n",
    "For this initial homework we will be training with the gunshot deaths dataset. Get it here. The goal of this optional homework is to use an IPython Notebook to reproduce the results reported in the visualization at the top of the article (e.g., \"nearly two-thirds of gun deaths are suicides\"). It's not necessary to generate visualizations for the results -- numbers should be more than enough to convince yourself that you were able to reproduce the results of that article."
   ]
  },
  {
   "cell_type": "code",
   "execution_count": 106,
   "metadata": {},
   "outputs": [
    {
     "name": "stdout",
     "output_type": "stream",
     "text": [
      "Index(['Unnamed: 0', 'year', 'month', 'intent', 'police', 'sex', 'age', 'race',\n",
      "       'hispanic', 'place', 'education'],\n",
      "      dtype='object')\n",
      "Suicide         63175\n",
      "Homicide        35176\n",
      "Accidental       1639\n",
      "Undetermined      807\n",
      "Name: intent, dtype: int64\n",
      "0.6267485465981468\n"
     ]
    }
   ],
   "source": [
    "\n",
    "file = pd.read_csv(\"full_data.csv\")\n",
    "\n",
    "print(file.columns)\n",
    "intent = file['intent']\n",
    "\n",
    "gunshot_type = intent[(intent != 'None selected') & (intent != 'Unknown')]\n",
    "\n",
    "print(file['intent'].value_counts())\n",
    "\n",
    "suicides = gunshot_type[gunshot_type == 'Suicide']\n",
    "\n",
    "total_suicides = len(suicides.index)\n",
    "suicideRate = total_suicides/len(gunshot_type.index)\n",
    "\n",
    "print(suicideRate)\n",
    "\n",
    "\n",
    "\n",
    "\n",
    "\n",
    "\n"
   ]
  },
  {
   "cell_type": "code",
   "execution_count": null,
   "metadata": {
    "collapsed": true
   },
   "outputs": [],
   "source": []
  },
  {
   "cell_type": "code",
   "execution_count": null,
   "metadata": {
    "collapsed": true
   },
   "outputs": [],
   "source": []
  }
 ],
 "metadata": {
  "kernelspec": {
   "display_name": "Python 3",
   "language": "python",
   "name": "python3"
  },
  "language_info": {
   "codemirror_mode": {
    "name": "ipython",
    "version": 3
   },
   "file_extension": ".py",
   "mimetype": "text/x-python",
   "name": "python",
   "nbconvert_exporter": "python",
   "pygments_lexer": "ipython3",
   "version": "3.6.1"
  }
 },
 "nbformat": 4,
 "nbformat_minor": 2
}
