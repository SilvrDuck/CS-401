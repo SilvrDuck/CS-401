{
 "cells": [
  {
   "cell_type": "markdown",
   "metadata": {},
   "source": [
    "# Table of Contents\n",
    " <p><div class=\"lev1\"><a href=\"#Task-1.-Compiling-Ebola-Data\"><span class=\"toc-item-num\">Task 1.&nbsp;&nbsp;</span>Compiling Ebola Data</a></div>\n",
    " <div class=\"lev1\"><a href=\"#Task-2.-RNA-Sequences\"><span class=\"toc-item-num\">Task 2.&nbsp;&nbsp;</span>RNA Sequences</a></div>\n",
    " <div class=\"lev1\"><a href=\"#Task-3.-Class-War-in-Titanic\"><span class=\"toc-item-num\">Task 3.&nbsp;&nbsp;</span>Class War in Titanic</a></div></p>"
   ]
  },
  {
   "cell_type": "code",
   "execution_count": 7,
   "metadata": {
    "collapsed": true
   },
   "outputs": [],
   "source": [
    "DATA_FOLDER = '/Users/noodle/workspace/python/ADA/tutorials/ADA2017-Tutorials/02 - Intro to Pandas/Data' # Use the data folder provided in Tutorial 02 - Intro to Pandas."
   ]
  },
  {
   "cell_type": "markdown",
   "metadata": {},
   "source": [
    "## Task 1. Compiling Ebola Data\n",
    "\n",
    "The `DATA_FOLDER/ebola` folder contains summarized reports of Ebola cases from three countries (Guinea, Liberia and Sierra Leone) during the recent outbreak of the disease in West Africa. For each country, there are daily reports that contain various information about the outbreak in several cities in each country.\n",
    "\n",
    "Use pandas to import these data files into a single `Dataframe`.\n",
    "Using this `DataFrame`, calculate for *each country*, the *daily average per month* of *new cases* and *deaths*.\n",
    "Make sure you handle all the different expressions for *new cases* and *deaths* that are used in the reports."
   ]
  },
  {
   "cell_type": "code",
   "execution_count": 101,
   "metadata": {},
   "outputs": [
    {
     "name": "stdout",
     "output_type": "stream",
     "text": [
      "        guinea                                                   liberia  \\\n",
      "         Beyla Boffa Kindia Kouroussa Lola Nzerekore Siguiri Bomi County   \n",
      "2014 6      NC    NC     NC        NC   NC        NC      NC    0.000000   \n",
      "     7      NC    NC     NC        NC   NC        NC      NC    0.545455   \n",
      "     8      NC     0     NC         0   NC         0       0    0.000000   \n",
      "     9      NC    NC      1        NC   NC        NC      NC    0.416667   \n",
      "     10     NC    NC     NC        NC   NC        NC      NC    0.166667   \n",
      "     11     NC    NC     NC        NC   NC        NC      NC    0.000000   \n",
      "     12     NC    NC     NC        NC   NC        NC      NC  101.500000   \n",
      "\n",
      "                                             ...           \\\n",
      "        Bong County Gbarpolu County          ...            \n",
      "2014 6     0.000000              NC          ...            \n",
      "     7     0.000000               0          ...            \n",
      "     8     2.000000              NC          ...            \n",
      "     9     1.958333               0          ...            \n",
      "     10    0.722222        0.363636          ...            \n",
      "     11    0.000000               0          ...            \n",
      "     12  101.250000             7.5          ...            \n",
      "\n",
      "                          sl                                       \\\n",
      "        34 Military Hospital Bo EMC Hastings-F/Town Kenema (IFRC)   \n",
      "2014 6                    NC     NC              NC            NC   \n",
      "     7                    NC     NC              NC            NC   \n",
      "     8                    NC     NC              NC            NC   \n",
      "     9                    NC     NC              NC            NC   \n",
      "     10                   NC     NC              NC            NC   \n",
      "     11                   NC     NC              NC            NC   \n",
      "     12                   NC     NC              NC            NC   \n",
      "\n",
      "                                                                               \\\n",
      "        Kenema (KGH) Police training School Police traning School Unnamed: 18   \n",
      "2014 6            NC                     NC                    NC          NC   \n",
      "     7            NC                     NC                    NC          NC   \n",
      "     8            NC                     NC                    NC          NC   \n",
      "     9            NC                     NC                    NC          NC   \n",
      "     10           NC                     NC                    NC          NC   \n",
      "     11           NC                     NC                    NC          NC   \n",
      "     12           NC                     NC                    NC          NC   \n",
      "\n",
      "                                            \n",
      "        Western area Western area combined  \n",
      "2014 6            NC                    NC  \n",
      "     7            NC                    NC  \n",
      "     8            NC                    NC  \n",
      "     9            NC                    NC  \n",
      "     10      25.7273                    NC  \n",
      "     11           NC                    NC  \n",
      "     12           NC                    NC  \n",
      "\n",
      "[7 rows x 34 columns]\n",
      "            liberia                                                           \\\n",
      "        Bomi County Bong County Gbarpolu County Grand Bassa Grand Cape Mount   \n",
      "2014 6            0           0              NC          NC               NC   \n",
      "     7     0.545455    0.727273               0           0                0   \n",
      "     8      9.88889     7.88889              NC         1.5          2.77778   \n",
      "     9      26.0435      12.087               0      13.913          5.30435   \n",
      "     10          30     15.4286        0.428571     21.1429                6   \n",
      "     11          NC          NC              NC          NC               NC   \n",
      "     12          NC          NC              NC          NC               NC   \n",
      "\n",
      "                                                                          \\\n",
      "        Grand Gedeh Grand Kru Lofa County Margibi County Maryland County   \n",
      "2014 6           NC         0     8.85714        1.33333               0   \n",
      "     7            0         0     23.1818              2               0   \n",
      "     8            0        NC          90        11.5556              48   \n",
      "     9            0     4.125         170        33.5217          0.1875   \n",
      "     10           0         5     192.714        41.4286               0   \n",
      "     11          NC        NC          NC             NC              NC   \n",
      "     12          NC        NC          NC             NC              NC   \n",
      "\n",
      "                 ...                            sl                         \\\n",
      "                 ...          34 Military Hospital Bo EMC Hastings-F/Town   \n",
      "2014 6           ...                            NC     NC              NC   \n",
      "     7           ...                            NC     NC              NC   \n",
      "     8           ...                            NC     NC              NC   \n",
      "     9           ...                            NC     NC              NC   \n",
      "     10          ...                            NC     NC              NC   \n",
      "     11          ...                            NC     NC              NC   \n",
      "     12          ...                            NC     NC              NC   \n",
      "\n",
      "                                                           \\\n",
      "        Kenema (IFRC) Kenema (KGH) Police training School   \n",
      "2014 6             NC           NC                     NC   \n",
      "     7             NC           NC                     NC   \n",
      "     8             NC           NC                     NC   \n",
      "     9             NC           NC                     NC   \n",
      "     10            NC           NC                     NC   \n",
      "     11            NC           NC                     NC   \n",
      "     12            NC           NC                     NC   \n",
      "\n",
      "                                                                              \n",
      "        Police traning School Unnamed: 18 Western area Western area combined  \n",
      "2014 6                     NC          NC           NC                    NC  \n",
      "     7                     NC          NC           NC                    NC  \n",
      "     8                     NC          NC           NC                    NC  \n",
      "     9                     NC          NC           NC                    NC  \n",
      "     10                    NC          NC      128.909                    NC  \n",
      "     11                    NC          NC           NC                    NC  \n",
      "     12                    NC          NC           NC                    NC  \n",
      "\n",
      "[7 rows x 27 columns]\n"
     ]
    }
   ],
   "source": [
    "import pandas as pd\n",
    "from os import listdir\n",
    "from os.path import isfile, join\n",
    "\n",
    "# Write your answer here\n",
    "\n",
    "\"\"\"\n",
    "Concate csv from the given directory and return a dataframe\n",
    "\"\"\"\n",
    "def concatData(fromFolder):\n",
    "    csvPath = [f for f in listdir(fromFolder) if isfile(join(fromFolder, f))]\n",
    "    csvPath = filter(lambda path: \".csv\" in path, csvPath)\n",
    "    csvPath = map(lambda pathFile: fromFolder + pathFile, csvPath)\n",
    "    dataFrames = map(pd.DataFrame.from_csv, csvPath)\n",
    "\n",
    "    return pd.concat(dataFrames)\n",
    "\n",
    "\"\"\"\n",
    "filter rows and clean dataset\n",
    "\"\"\"\n",
    "def cleanAndReturn(dataframe, variableName, variableValue, globalIndexName):\n",
    "    myDf = dataframe[dataframe[variableName] == variableValue]\n",
    "    \"\"\"myDf = myDf.fillna(value=0)\"\"\"\n",
    "    del myDf[variableName]\n",
    "    myDf.columns = pd.MultiIndex.from_tuples([i for i in map( lambda cN: (globalIndexName, cN), myDf.columns)])\n",
    "    myDf.index = map(lambda d: pd.to_datetime(d,infer_datetime_format=True, errors='coerce'), myDf.index)\n",
    "    \n",
    "    return myDf\n",
    "\n",
    "\"\"\" count and extrapolate daily value for the given Serie \"\"\"\n",
    "def countAndExtrapolate(serie):\n",
    "    notNanValues = serie[serie.notnull()]\n",
    "    if notNanValues.size == 0 : \n",
    "        return 'NC'\n",
    "    else:\n",
    "        return notNanValues.sum()/notNanValues.size\n",
    "    \n",
    "\n",
    "\n",
    "\"\"\" I/ build & concatenate the dataset\"\"\"\n",
    "\n",
    "guinea = concatData(DATA_FOLDER+\"/ebola/guinea_data/\")\n",
    "guinea_new_case = cleanAndReturn(guinea,'Description', 'New cases of confirmed', 'guinea');\n",
    "guinea_death = cleanAndReturn(guinea,'Description', 'Total deaths of confirmed', 'guinea');\n",
    "\n",
    "liberia = concatData(DATA_FOLDER+\"/ebola/liberia_data/\")\n",
    "liberia_new_case = cleanAndReturn(liberia,'Variable', 'New case/s (confirmed)', 'liberia');\n",
    "liberia_death = cleanAndReturn(liberia,'Variable', 'Total death/s in confirmed cases', 'liberia');\n",
    "\n",
    "sl = concatData(DATA_FOLDER+\"/ebola/sl_data/\")\n",
    "sl_new_case = cleanAndReturn(sl,'variable', 'new_confirmed', 'sl');\n",
    "sl_death = cleanAndReturn(sl,'variable', 'death_confirmed', 'sl');\n",
    "\n",
    "new_cases = guinea_new_case.join(liberia_new_case, how='outer').join(sl_new_case, how='outer')\n",
    "deaths = guinea_death.join(liberia_death, how='outer').join(sl_death, how='outer')\n",
    "\n",
    "\n",
    "\"\"\" II/ get interesting values\"\"\"\n",
    "\n",
    "new_case_month_daily = new_cases.groupby([(new_cases.index.year),(new_cases.index.month)]).agg(countAndExtrapolate)\n",
    "death_month_daily = deaths.groupby([(deaths.index.year),(deaths.index.month)]).agg(countAndExtrapolate)\n",
    "\n",
    "\n",
    "print(new_case_month_daily)\n",
    "\n",
    "print(death_month_daily)\n",
    "\n"
   ]
  },
  {
   "cell_type": "markdown",
   "metadata": {},
   "source": [
    "## Task 2. RNA Sequences\n",
    "\n",
    "In the `DATA_FOLDER/microbiome` subdirectory, there are 9 spreadsheets of microbiome data that was acquired from high-throughput RNA sequencing procedures, along with a 10<sup>th</sup> file that describes the content of each. \n",
    "\n",
    "Use pandas to import the first 9 spreadsheets into a single `DataFrame`.\n",
    "Then, add the metadata information from the 10<sup>th</sup> spreadsheet as columns in the combined `DataFrame`.\n",
    "Make sure that the final `DataFrame` has a unique index and all the `NaN` values have been replaced by the tag `unknown`."
   ]
  },
  {
   "cell_type": "code",
   "execution_count": null,
   "metadata": {
    "collapsed": true
   },
   "outputs": [],
   "source": [
    "# Write your answer here"
   ]
  },
  {
   "cell_type": "markdown",
   "metadata": {},
   "source": [
    "## Task 3. Class War in Titanic\n",
    "\n",
    "Use pandas to import the data file `Data/titanic.xls`. It contains data on all the passengers that travelled on the Titanic."
   ]
  },
  {
   "cell_type": "code",
   "execution_count": null,
   "metadata": {
    "collapsed": true
   },
   "outputs": [],
   "source": [
    "from IPython.core.display import HTML\n",
    "HTML(filename=DATA_FOLDER+'/titanic.html')"
   ]
  },
  {
   "cell_type": "markdown",
   "metadata": {},
   "source": [
    "For each of the following questions state clearly your assumptions and discuss your findings:\n",
    "1. Describe the *type* and the *value range* of each attribute. Indicate and transform the attributes that can be `Categorical`. \n",
    "2. Plot histograms for the *travel class*, *embarkation port*, *sex* and *age* attributes. For the latter one, use *discrete decade intervals*. \n",
    "3. Calculate the proportion of passengers by *cabin floor*. Present your results in a *pie chart*.\n",
    "4. For each *travel class*, calculate the proportion of the passengers that survived. Present your results in *pie charts*.\n",
    "5. Calculate the proportion of the passengers that survived by *travel class* and *sex*. Present your results in *a single histogram*.\n",
    "6. Create 2 equally populated *age categories* and calculate survival proportions by *age category*, *travel class* and *sex*. Present your results in a `DataFrame` with unique index."
   ]
  },
  {
   "cell_type": "code",
   "execution_count": null,
   "metadata": {
    "collapsed": true
   },
   "outputs": [],
   "source": [
    "# Write your answer here"
   ]
  }
 ],
 "metadata": {
  "kernelspec": {
   "display_name": "Python 3",
   "language": "python",
   "name": "python3"
  },
  "language_info": {
   "codemirror_mode": {
    "name": "ipython",
    "version": 3
   },
   "file_extension": ".py",
   "mimetype": "text/x-python",
   "name": "python",
   "nbconvert_exporter": "python",
   "pygments_lexer": "ipython3",
   "version": "3.6.1"
  }
 },
 "nbformat": 4,
 "nbformat_minor": 2
}
