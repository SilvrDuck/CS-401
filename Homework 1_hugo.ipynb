{
 "cells": [
  {
   "cell_type": "markdown",
   "metadata": {},
   "source": [
    "# Table of Contents\n",
    " <p><div class=\"lev1\"><a href=\"#Task-1.-Compiling-Ebola-Data\"><span class=\"toc-item-num\">Task 1.&nbsp;&nbsp;</span>Compiling Ebola Data</a></div>\n",
    " <div class=\"lev1\"><a href=\"#Task-2.-RNA-Sequences\"><span class=\"toc-item-num\">Task 2.&nbsp;&nbsp;</span>RNA Sequences</a></div>\n",
    " <div class=\"lev1\"><a href=\"#Task-3.-Class-War-in-Titanic\"><span class=\"toc-item-num\">Task 3.&nbsp;&nbsp;</span>Class War in Titanic</a></div></p>"
   ]
  },
  {
   "cell_type": "code",
   "execution_count": 2,
   "metadata": {
    "collapsed": true
   },
   "outputs": [],
   "source": [
    "DATA_FOLDER = '/Users/noodle/workspace/python/ADA/tutorials/ADA2017-Tutorials/02 - Intro to Pandas/Data' # Use the data folder provided in Tutorial 02 - Intro to Pandas."
   ]
  },
  {
   "cell_type": "markdown",
   "metadata": {},
   "source": [
    "## Task 1. Compiling Ebola Data\n",
    "\n",
    "The `DATA_FOLDER/ebola` folder contains summarized reports of Ebola cases from three countries (Guinea, Liberia and Sierra Leone) during the recent outbreak of the disease in West Africa. For each country, there are daily reports that contain various information about the outbreak in several cities in each country.\n",
    "\n",
    "Use pandas to import these data files into a single `Dataframe`.\n",
    "Using this `DataFrame`, calculate for *each country*, the *daily average per month* of *new cases* and *deaths*.\n",
    "Make sure you handle all the different expressions for *new cases* and *deaths* that are used in the reports."
   ]
  },
  {
   "cell_type": "code",
   "execution_count": 90,
   "metadata": {},
   "outputs": [],
   "source": [
    "import pandas as pd\n",
    "import numpy as np\n",
    "from os import listdir\n",
    "from os.path import isfile, join\n",
    "\n",
    "# Write your answer here\n",
    "\n",
    "\"\"\"\n",
    "Concate csv from the given directory and return a dataframe\n",
    "\"\"\"\n",
    "def concatData(fromFolder):\n",
    "    csvPath = [f for f in listdir(fromFolder) if isfile(join(fromFolder, f))]\n",
    "    csvPath = filter(lambda path: \".csv\" in path, csvPath)\n",
    "    csvPath = map(lambda pathFile: fromFolder + pathFile, csvPath)\n",
    "    dataFrames = map(pd.DataFrame.from_csv, csvPath)\n",
    "\n",
    "    return pd.concat(dataFrames)\n",
    "\n",
    "\"\"\"\n",
    "filter rows and clean dataset\n",
    "\"\"\"\n",
    "def cleanAndReturn(dataframe, variableName, variableValue, globalIndexName):\n",
    "    myDf = dataframe[dataframe[variableName] == variableValue]\n",
    "    myDf = myDf.fillna(value=np.float64(0.0))\n",
    "    del myDf[variableName]\n",
    "    if('Totals' in myDf):\n",
    "        del myDf['Totals']\n",
    "    if('National' in myDf):\n",
    "        del myDf['National']\n",
    "    myDf.columns = pd.MultiIndex.from_tuples([i for i in map( lambda cN: (globalIndexName, cN), myDf.columns)])\n",
    "    myDf.index = map(lambda d: pd.to_datetime(d,infer_datetime_format=True, errors='coerce'), myDf.index)\n",
    "    for columnName in myDf.columns:\n",
    "        myDf[columnName] = myDf[columnName].astype(np.float64)\n",
    "    \n",
    "    return myDf\n",
    "    \n",
    "\"\"\" avg daily per month \"\"\"\n",
    "def averageDailyPerMonth(serie):\n",
    "    notNanValues = serie[serie.notnull()]\n",
    "    if notNanValues.size == 0 : \n",
    "        return 'NC'\n",
    "    else:\n",
    "        return notNanValues.sum()/notNanValues.size\n",
    "\n",
    "def mySum(serie):\n",
    "    notNanValues = serie[serie.notnull()]\n",
    "    if notNanValues.size == 0 : \n",
    "        return 'NC'\n",
    "    else:\n",
    "        return notNanValues.sum()\n",
    "    \n",
    "\n",
    "\"\"\" I/ build & concatenate the dataset\"\"\"\n",
    "\n",
    "\"\"\" NOT EXISTENT VALUES ARE CONSIDERED AS 0 INSIDE A COUNTRY (if one register not null : others null <=> 0)\"\"\"\n",
    "\n",
    "guinea = concatData(DATA_FOLDER+\"/ebola/guinea_data/\")\n",
    "guinea_new_case = cleanAndReturn(guinea,'Description', 'New cases of confirmed', 'guinea');\n",
    "guinea_death = cleanAndReturn(guinea,'Description', 'Total deaths of confirmed', 'guinea');\n",
    "\n",
    "liberia = concatData(DATA_FOLDER+\"/ebola/liberia_data/\")\n",
    "liberia_new_case = cleanAndReturn(liberia,'Variable', 'New case/s (confirmed)', 'liberia');\n",
    "liberia_death = cleanAndReturn(liberia,'Variable', 'Total death/s in confirmed cases', 'liberia');\n",
    "\n",
    "sl = concatData(DATA_FOLDER+\"/ebola/sl_data/\")\n",
    "sl_new_case = cleanAndReturn(sl,'variable', 'new_confirmed', 'sl');\n",
    "sl_death = cleanAndReturn(sl,'variable', 'death_confirmed', 'sl');\n",
    "\n",
    "\n",
    "\"\"\" II/ merge and fill 0 for date that are not existing in all three countries\"\"\"\n",
    "\n",
    "\n",
    "new_cases = guinea_new_case.join(liberia_new_case, how='outer').join(sl_new_case, how='outer')\n",
    "deaths = guinea_death.join(liberia_death, how='outer').join(sl_death, how='outer')\n",
    "\n",
    "\n",
    "\n",
    "\"\"\" NOT EXISTENT VALUES ARE CONSIDERED AS MISSING VALUES FOR DATE ADDED DURING THE JOIN \"\"\"\n",
    "\"\"\"new_cases = new_cases.fillna(value=0)\"\"\"\n",
    "\"\"\"deaths = deaths.fillna(value=0)\"\"\"\n",
    "\n",
    "\n",
    "\"\"\" III/ merge axis 1 (by region) and sum \"\"\"\n",
    "\n",
    "\n",
    "new_cases = new_cases.sum(axis=1, level=0)\n",
    "deaths = deaths.sum(axis=1, level=0)\n",
    "\n",
    "\n",
    "\n",
    "\n",
    "\n",
    "\"\"\" IV/ merge axis 0 (by month) and take mean\"\"\"\n",
    "\n",
    "new_case_month_daily = new_cases.groupby([(new_cases.index.year),(new_cases.index.month)]).agg(averageDailyPerMonth)\n",
    "death_month_daily = deaths.groupby([(deaths.index.year),(deaths.index.month)]).agg(averageDailyPerMonth)\n",
    "\n"
   ]
  },
  {
   "cell_type": "code",
   "execution_count": 92,
   "metadata": {},
   "outputs": [
    {
     "name": "stdout",
     "output_type": "stream",
     "text": [
      "########################## NEW CASES ##########################\n"
     ]
    },
    {
     "data": {
      "text/html": [
       "<div>\n",
       "<style>\n",
       "    .dataframe thead tr:only-child th {\n",
       "        text-align: right;\n",
       "    }\n",
       "\n",
       "    .dataframe thead th {\n",
       "        text-align: left;\n",
       "    }\n",
       "\n",
       "    .dataframe tbody tr th {\n",
       "        vertical-align: top;\n",
       "    }\n",
       "</style>\n",
       "<table border=\"1\" class=\"dataframe\">\n",
       "  <thead>\n",
       "    <tr style=\"text-align: right;\">\n",
       "      <th></th>\n",
       "      <th></th>\n",
       "      <th>guinea</th>\n",
       "      <th>liberia</th>\n",
       "      <th>sl</th>\n",
       "    </tr>\n",
       "  </thead>\n",
       "  <tbody>\n",
       "    <tr>\n",
       "      <th rowspan=\"7\" valign=\"top\">2014</th>\n",
       "      <th>6</th>\n",
       "      <td>NC</td>\n",
       "      <td>2.142857</td>\n",
       "      <td>NC</td>\n",
       "    </tr>\n",
       "    <tr>\n",
       "      <th>7</th>\n",
       "      <td>NC</td>\n",
       "      <td>1.818182</td>\n",
       "      <td>NC</td>\n",
       "    </tr>\n",
       "    <tr>\n",
       "      <th>8</th>\n",
       "      <td>12.4</td>\n",
       "      <td>5.444444</td>\n",
       "      <td>19.6</td>\n",
       "    </tr>\n",
       "    <tr>\n",
       "      <th>9</th>\n",
       "      <td>12.5625</td>\n",
       "      <td>6.166667</td>\n",
       "      <td>36.2759</td>\n",
       "    </tr>\n",
       "    <tr>\n",
       "      <th>10</th>\n",
       "      <td>6</td>\n",
       "      <td>1.240000</td>\n",
       "      <td>57.5357</td>\n",
       "    </tr>\n",
       "    <tr>\n",
       "      <th>11</th>\n",
       "      <td>NC</td>\n",
       "      <td>2.533333</td>\n",
       "      <td>63.2381</td>\n",
       "    </tr>\n",
       "    <tr>\n",
       "      <th>12</th>\n",
       "      <td>NC</td>\n",
       "      <td>1932.333333</td>\n",
       "      <td>32.6</td>\n",
       "    </tr>\n",
       "  </tbody>\n",
       "</table>\n",
       "</div>"
      ],
      "text/plain": [
       "          guinea      liberia       sl\n",
       "2014 6        NC     2.142857       NC\n",
       "     7        NC     1.818182       NC\n",
       "     8      12.4     5.444444     19.6\n",
       "     9   12.5625     6.166667  36.2759\n",
       "     10        6     1.240000  57.5357\n",
       "     11       NC     2.533333  63.2381\n",
       "     12       NC  1932.333333     32.6"
      ]
     },
     "execution_count": 92,
     "metadata": {},
     "output_type": "execute_result"
    }
   ],
   "source": [
    "\"\"\"V/ Print result\"\"\"\n",
    "\n",
    "print(\"########################## NEW CASES ##########################\")\n",
    "new_case_month_daily\n"
   ]
  },
  {
   "cell_type": "code",
   "execution_count": 93,
   "metadata": {},
   "outputs": [
    {
     "name": "stdout",
     "output_type": "stream",
     "text": [
      "########################## DEATH ##########################\n",
      "          guinea     liberia       sl\n",
      "2014 6        NC   16.857143       NC\n",
      "     7        NC   43.272727       NC\n",
      "     8     289.6  195.777778   331.15\n",
      "     9   440.188  606.750000  454.414\n",
      "     10      562  277.576923  903.103\n",
      "     11       NC    0.000000  904.286\n",
      "     12       NC    0.000000   1314.8\n"
     ]
    }
   ],
   "source": [
    "print(\"########################## DEATH ##########################\")\n",
    "print(death_month_daily)\n"
   ]
  },
  {
   "cell_type": "markdown",
   "metadata": {},
   "source": [
    "## Task 2. RNA Sequences\n",
    "\n",
    "In the `DATA_FOLDER/microbiome` subdirectory, there are 9 spreadsheets of microbiome data that was acquired from high-throughput RNA sequencing procedures, along with a 10<sup>th</sup> file that describes the content of each. \n",
    "\n",
    "Use pandas to import the first 9 spreadsheets into a single `DataFrame`.\n",
    "Then, add the metadata information from the 10<sup>th</sup> spreadsheet as columns in the combined `DataFrame`.\n",
    "Make sure that the final `DataFrame` has a unique index and all the `NaN` values have been replaced by the tag `unknown`."
   ]
  },
  {
   "cell_type": "code",
   "execution_count": null,
   "metadata": {
    "collapsed": true
   },
   "outputs": [],
   "source": [
    "# Write your answer here"
   ]
  },
  {
   "cell_type": "markdown",
   "metadata": {},
   "source": [
    "## Task 3. Class War in Titanic\n",
    "\n",
    "Use pandas to import the data file `Data/titanic.xls`. It contains data on all the passengers that travelled on the Titanic."
   ]
  },
  {
   "cell_type": "code",
   "execution_count": null,
   "metadata": {
    "collapsed": true
   },
   "outputs": [],
   "source": [
    "from IPython.core.display import HTML\n",
    "HTML(filename=DATA_FOLDER+'/titanic.html')"
   ]
  },
  {
   "cell_type": "markdown",
   "metadata": {},
   "source": [
    "For each of the following questions state clearly your assumptions and discuss your findings:\n",
    "1. Describe the *type* and the *value range* of each attribute. Indicate and transform the attributes that can be `Categorical`. \n",
    "2. Plot histograms for the *travel class*, *embarkation port*, *sex* and *age* attributes. For the latter one, use *discrete decade intervals*. \n",
    "3. Calculate the proportion of passengers by *cabin floor*. Present your results in a *pie chart*.\n",
    "4. For each *travel class*, calculate the proportion of the passengers that survived. Present your results in *pie charts*.\n",
    "5. Calculate the proportion of the passengers that survived by *travel class* and *sex*. Present your results in *a single histogram*.\n",
    "6. Create 2 equally populated *age categories* and calculate survival proportions by *age category*, *travel class* and *sex*. Present your results in a `DataFrame` with unique index."
   ]
  },
  {
   "cell_type": "code",
   "execution_count": null,
   "metadata": {
    "collapsed": true
   },
   "outputs": [],
   "source": [
    "# Write your answer here"
   ]
  }
 ],
 "metadata": {
  "kernelspec": {
   "display_name": "Python 3",
   "language": "python",
   "name": "python3"
  },
  "language_info": {
   "codemirror_mode": {
    "name": "ipython",
    "version": 3
   },
   "file_extension": ".py",
   "mimetype": "text/x-python",
   "name": "python",
   "nbconvert_exporter": "python",
   "pygments_lexer": "ipython3",
   "version": "3.6.1"
  }
 },
 "nbformat": 4,
 "nbformat_minor": 2
}
