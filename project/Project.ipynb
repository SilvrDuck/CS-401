{
 "cells": [
  {
   "cell_type": "markdown",
   "metadata": {},
   "source": [
    "# Airbnb data analysis\n",
    "\n",
    "## Introduction\n",
    "\n",
    "The massive adoption of the Airbnb service in the world has changed the way people travel, and how the hotel industry works. There is a lot of controversy about this service. The City of Berlin chose to ban the service entirely, and later made exception allowing people having only a secondary residency there to rent it, but for a limited amount of time per year. In the case of Amsterdam, a deal has been made directly with the company to limit the number of days that any given apartment can be rented.\n",
    "\n",
    "But what are the concerns here? Is it the hotel industry that suffers? Are the denizens of those cities directly threatened by rises in housing prices and speculation? In this work, we want to explore the data offered by the website http://insideairbnb.com/. We will try not to take any conclusion beforehand and simply try to find correlation between the usage of the housing service and different indicators published by the national statistics service themselves.\n",
    "\n",
    "We chose to do those analysis on the two aforementioned cities, Berlin and Amsterdam, since they are both major touristic capitals in Europe, and quite close to each other. Comparing the two might help us have more insight on the effect of the business. The two cities have put in place major regulation on the service in 2016. We will therefore compare analyse the evolution of those factor between 2015 and 2017."
   ]
  },
  {
   "cell_type": "markdown",
   "metadata": {},
   "source": [
    "## Inside Airbnb data imports and helper functions definitions"
   ]
  },
  {
   "cell_type": "code",
   "execution_count": 1,
   "metadata": {},
   "outputs": [],
   "source": [
    "%matplotlib inline\n",
    "\n",
    "import os\n",
    "import folium\n",
    "import numpy  as np\n",
    "import pandas as pd\n",
    "import geopandas as gpd\n",
    "\n",
    "DATASETS_ROOT=\"datasets\"\n",
    "INSIDE=\"Inside-Airbnb\"\n",
    "NATIONAL=\"National\"\n",
    "CITIES=[\"Amsterdam\", \"Berlin\"]"
   ]
  },
  {
   "cell_type": "code",
   "execution_count": 2,
   "metadata": {},
   "outputs": [],
   "source": [
    "def load_amsterdam_geo():\n",
    "    amsterdam_topo = os.path.join(DATASETS_ROOT, \"Amsterdam\", \"neighbourhoods.geojson\")\n",
    "    m = folium.Map(\n",
    "        location=[52.370216, 4.895168],\n",
    "        zoom_start=12\n",
    "    )\n",
    "\n",
    "    folium.GeoJson(\n",
    "        amsterdam_topo,\n",
    "        name='geojson'\n",
    "    ).add_to(m)\n",
    "    \n",
    "    return m"
   ]
  },
  {
   "cell_type": "code",
   "execution_count": 3,
   "metadata": {},
   "outputs": [],
   "source": [
    "def load_berlin_geo():\n",
    "    berlin_topo = os.path.join(DATASETS_ROOT, \"Berlin\", \"neighbourhoods.geojson\")\n",
    "    m = folium.Map(\n",
    "        location=[52.52437, 13.41053],\n",
    "        zoom_start=11\n",
    "    )\n",
    "\n",
    "    folium.GeoJson(\n",
    "        open(berlin_topo,  'r', encoding='utf-8').read(),\n",
    "        name='geojson'\n",
    "    ).add_to(m)\n",
    "    \n",
    "    return m"
   ]
  },
  {
   "cell_type": "code",
   "execution_count": 4,
   "metadata": {},
   "outputs": [],
   "source": [
    "def load_listing(city, year, full = False):\n",
    "    filename = \"listings.csv\" if not full else \"listings 2.csv\"\n",
    "    file = os.path.join(DATASETS_ROOT, city, INSIDE, year, filename)\n",
    "    return pd.read_csv(file)"
   ]
  },
  {
   "cell_type": "code",
   "execution_count": 5,
   "metadata": {},
   "outputs": [],
   "source": [
    "def load_calendar_data(city, year):\n",
    "    file = os.path.join(DATASETS_ROOT, city, INSIDE, year, \"calendar.csv\")\n",
    "    return pd.read_csv(file)\n",
    "\n",
    "def load_listing_data(city, year):\n",
    "    pass"
   ]
  },
  {
   "cell_type": "code",
   "execution_count": 6,
   "metadata": {},
   "outputs": [],
   "source": [
    "def density_neighbourhood():\n",
    "    pass\n",
    "\n",
    "def availability_neighbourhood():\n",
    "    pass"
   ]
  },
  {
   "cell_type": "markdown",
   "metadata": {},
   "source": [
    "The following method creates a choropleth for a city given the starting map, a path to the GeoJSON file as well as a dataframe containing at least two columns:\n",
    "\n",
    "- counts: the number of AirBnB\n",
    "- neigbourhood: The name of the neigbourhood"
   ]
  },
  {
   "cell_type": "code",
   "execution_count": 7,
   "metadata": {},
   "outputs": [],
   "source": [
    "def neighbourhood_map(start_map, path, stats):\n",
    "    from shapely.geometry import Polygon, mapping\n",
    "    \n",
    "    geo_df = gpd.read_file(path)\n",
    "\n",
    "    text = []\n",
    "    list_geo = []\n",
    "    gj = []\n",
    "\n",
    "    for i in range(stats.index.size):\n",
    "        current = stats.loc[i]\n",
    "        selected = geo_df[geo_df['neighbourhood'] == current.neighbourhood]\n",
    "\n",
    "        mp = mapping(selected.geometry)\n",
    "        list_geo.append(selected)\n",
    "        text.append(current.neighbourhood +  '<br>' + 'Number of available AirBnB: ' + str(current.counts))\n",
    "        gj.append(folium.GeoJson(mp, style_function=lambda feature: {\n",
    "            'opacity' : 0.7 , 'fillColor': '#FFFFFFFF', 'color' : 'blue'\n",
    "        }))\n",
    "\n",
    "    start_map.choropleth(\n",
    "        geo_data=open(path,  'r', encoding='utf-8').read(),\n",
    "        name='choropleth',\n",
    "        data=stats,\n",
    "        columns=['neighbourhood', \"counts\"],\n",
    "        fill_color='PuBuGn',\n",
    "        fill_opacity=0.7,\n",
    "        line_opacity=0.2,\n",
    "        key_on='properties.neighbourhood',\n",
    "        legend_name='Number of AirBnB available',\n",
    "        threshold_scale=np.linspace(0, stats.counts.max(), 6).tolist()\n",
    "    )\n",
    "\n",
    "    for i in range(geo_df.index.size):\n",
    "        if i < len(text):\n",
    "            gj[i].add_child(folium.Popup(text[i]))\n",
    "            gj[i].add_to(start_map)\n",
    "    return start_map"
   ]
  },
  {
   "cell_type": "code",
   "execution_count": 8,
   "metadata": {},
   "outputs": [],
   "source": [
    "amsterdam_calendar_data_2015 = load_calendar_data(\"Amsterdam\", \"2015\")\n",
    "amsterdam_calendar_data_2017 = load_calendar_data(\"Amsterdam\", \"2017\")\n",
    "\n",
    "amsterdam_listing_2015 = load_listing(\"Amsterdam\", \"2015\")\n",
    "amsterdam_listing_2017 = load_listing(\"Amsterdam\", \"2017\")\n",
    "\n",
    "amsterdam_listing_2015_full = load_listing(\"Amsterdam\", \"2015\", True)\n",
    "amsterdam_listing_2017_full = load_listing(\"Amsterdam\", \"2017\", True)"
   ]
  },
  {
   "cell_type": "code",
   "execution_count": 9,
   "metadata": {
    "scrolled": false
   },
   "outputs": [],
   "source": [
    "amsterdam_map = load_amsterdam_geo()"
   ]
  },
  {
   "cell_type": "code",
   "execution_count": 10,
   "metadata": {},
   "outputs": [],
   "source": [
    "berlin_calendar_data_2016 = load_calendar_data(\"Berlin\", \"2016\")\n",
    "berlin_calendar_data_2017 = load_calendar_data(\"Berlin\", \"2017\")\n",
    "\n",
    "berlin_listing_2016 = load_listing(\"Berlin\", \"2016\")\n",
    "berlin_listing_2017 = load_listing(\"Berlin\", \"2017\")\n",
    "\n",
    "berlin_listing_2016_full = load_listing(\"Berlin\", \"2016\", True)\n",
    "berlin_listing_2017_full = load_listing(\"Berlin\", \"2017\", True)"
   ]
  },
  {
   "cell_type": "code",
   "execution_count": 11,
   "metadata": {},
   "outputs": [],
   "source": [
    "berlin_map = load_berlin_geo()"
   ]
  },
  {
   "cell_type": "markdown",
   "metadata": {},
   "source": [
    "## Exploring data from the Inside Airbnb dataset\n",
    "\n",
    "### Berlin - Inside Airbnb\n",
    "\n",
    "Here we display the density of usage of Airbnb across the different neighbourhood of the city.\n",
    "The first step is to match neighbourhood from the GeoJSON and the listing.\n",
    "\n",
    "Let's extract the neighbourhoods from the listing:"
   ]
  },
  {
   "cell_type": "code",
   "execution_count": null,
   "metadata": {
    "scrolled": true
   },
   "outputs": [],
   "source": [
    "berlin_listing_ng_names = berlin_listing_2016.neighbourhood.unique()\n",
    "berlin_listing_2016_neig_stats = berlin_listing_2016.groupby(\"neighbourhood\").size().reset_index(name=\"counts\")"
   ]
  },
  {
   "cell_type": "markdown",
   "metadata": {},
   "source": [
    "We want to be able to see the number of AirBnB inside each neighbourhood, so we load the GeoJSON as a GeoPanda and then map it with the dataframe created above"
   ]
  },
  {
   "cell_type": "code",
   "execution_count": null,
   "metadata": {},
   "outputs": [],
   "source": [
    "neighbourhood_map(folium.Map(\n",
    "        location=[52.52437, 13.41053],\n",
    "        zoom_start=11\n",
    "    ), os.path.join(DATASETS_ROOT, \"Berlin\", \"neighbourhoods.geojson\"), berlin_listing_2016_neig_stats)"
   ]
  },
  {
   "cell_type": "markdown",
   "metadata": {},
   "source": [
    "From this map, we can conclude that the neighboorhoods in the center are more attractive on AirBnB than the one farthest from the center. It's probably because tourists prefers to be in the center of the town more than being far from the touristic places."
   ]
  },
  {
   "cell_type": "markdown",
   "metadata": {},
   "source": [
    "We explore a bit of temporal data to see how the service is used during one full year. We look at what has changer between 2016 and 2017."
   ]
  },
  {
   "cell_type": "code",
   "execution_count": null,
   "metadata": {},
   "outputs": [],
   "source": [
    "berlin_listing_2017_neig_stats = berlin_listing_2017.groupby(\"neighbourhood\").size().reset_index(name=\"counts\")\n",
    "berlin_ng_stat_merge = berlin_listing_2016_neig_stats.join(berlin_listing_2017_neig_stats, rsuffix=\"_2017\")\n",
    "berlin_ng_stat_merge['diff'] = berlin_ng_stat_merge['counts_2017'] - berlin_ng_stat_merge['counts']\n",
    "berlin_ng_stat_merge = berlin_ng_stat_merge.sort_values(by=['diff'], ascending=False)\n",
    "berlin_ng_stat_merge.head(n=15).plot(x='neighbourhood', y = ['counts', 'counts_2017'], kind='bar', figsize=(15, 15))"
   ]
  },
  {
   "cell_type": "markdown",
   "metadata": {},
   "source": [
    "But we can also see that many neighbourhoods have also lost in popularity"
   ]
  },
  {
   "cell_type": "code",
   "execution_count": null,
   "metadata": {},
   "outputs": [],
   "source": [
    "berlin_ng_stat_merge = berlin_ng_stat_merge.sort_values(by=['diff'], ascending=True)\n",
    "berlin_ng_stat_merge.head(n=15).plot(x='neighbourhood', y = ['counts', 'counts_2017'], kind='bar', figsize=(15, 15))"
   ]
  },
  {
   "cell_type": "markdown",
   "metadata": {},
   "source": [
    "###  Amsterdam - Inside Airbnb\n",
    "\n",
    "Here we display the density of usage of Airbnb across the different neighbourhood of the city."
   ]
  },
  {
   "cell_type": "code",
   "execution_count": null,
   "metadata": {},
   "outputs": [],
   "source": [
    "amsterdam_listing_ng_names = amsterdam_listing_2015.neighbourhood.unique()\n",
    "amsterdam_listing_2015_neig_stats = amsterdam_listing_2015.groupby(\"neighbourhood\").size().reset_index(name=\"counts\")"
   ]
  },
  {
   "cell_type": "code",
   "execution_count": null,
   "metadata": {},
   "outputs": [],
   "source": [
    "neighbourhood_map(folium.Map(\n",
    "        location=[52.370216, 4.895168],\n",
    "        zoom_start=12\n",
    "    ), os.path.join(DATASETS_ROOT, \"Amsterdam\", \"neighbourhoods.geojson\"), amsterdam_listing_2015_neig_stats)"
   ]
  },
  {
   "cell_type": "markdown",
   "metadata": {},
   "source": [
    "We explore a bit of temporal data to see how the service is used during one full year. We look at what has changer between 2015 and 2017.\n"
   ]
  },
  {
   "cell_type": "code",
   "execution_count": null,
   "metadata": {},
   "outputs": [],
   "source": []
  },
  {
   "cell_type": "markdown",
   "metadata": {},
   "source": [
    "## National data imports"
   ]
  },
  {
   "cell_type": "code",
   "execution_count": null,
   "metadata": {},
   "outputs": [],
   "source": [
    "def load_national_data(city, file_name):\n",
    "    file = os.path.join(DATASETS_ROOT, city, NATIONAL, file_name)\n",
    "    return pd.read_csv(file)"
   ]
  },
  {
   "cell_type": "code",
   "execution_count": null,
   "metadata": {},
   "outputs": [],
   "source": [
    "am_2013_to_2017_number_of_housing = load_national_data(\"Amsterdam\", \"2013_to_2017_number_of_housing.csv\")\n",
    "am_2015_2016_total_sales_prices = load_national_data(\"Amsterdam\", \"2015_2016_total_sales_prices.csv\")\n",
    "am_2017_number_of_room_per_dwelling = load_national_data(\"Amsterdam\", \"2017_number_of_room_per_dwelling.csv\")\n",
    "am_2017_satisfaction_with_living_environment = load_national_data(\"Amsterdam\", \"2017_satisfaction_with_living_environment.csv\")"
   ]
  },
  {
   "cell_type": "markdown",
   "metadata": {},
   "source": [
    "## Exploring data from national sources\n",
    "\n",
    "### Berlin - National Data\n",
    "\n",
    "Analysis of the price of housing over time."
   ]
  },
  {
   "cell_type": "code",
   "execution_count": null,
   "metadata": {},
   "outputs": [],
   "source": []
  },
  {
   "cell_type": "markdown",
   "metadata": {},
   "source": [
    "Size of apartments in different neighbourhoods.\n"
   ]
  },
  {
   "cell_type": "code",
   "execution_count": null,
   "metadata": {},
   "outputs": [],
   "source": []
  },
  {
   "cell_type": "markdown",
   "metadata": {},
   "source": [
    "Rental price categories for private housing.\n"
   ]
  },
  {
   "cell_type": "code",
   "execution_count": null,
   "metadata": {},
   "outputs": [],
   "source": []
  },
  {
   "cell_type": "markdown",
   "metadata": {},
   "source": [
    "Satisfaction with house and living environment per district.\n"
   ]
  },
  {
   "cell_type": "code",
   "execution_count": null,
   "metadata": {},
   "outputs": [],
   "source": []
  },
  {
   "cell_type": "markdown",
   "metadata": {},
   "source": [
    "### Amsterdam - National Data\n",
    "\n",
    "Analysis of the price of housing over time."
   ]
  },
  {
   "cell_type": "code",
   "execution_count": null,
   "metadata": {},
   "outputs": [],
   "source": []
  },
  {
   "cell_type": "markdown",
   "metadata": {},
   "source": [
    "Size of apartments in different neighbourhoods.\n"
   ]
  },
  {
   "cell_type": "code",
   "execution_count": null,
   "metadata": {},
   "outputs": [],
   "source": []
  },
  {
   "cell_type": "markdown",
   "metadata": {},
   "source": [
    "Rental price categories for private housing.\n"
   ]
  },
  {
   "cell_type": "code",
   "execution_count": null,
   "metadata": {},
   "outputs": [],
   "source": []
  },
  {
   "cell_type": "markdown",
   "metadata": {},
   "source": [
    "Satisfaction with house and living environment per district.\n"
   ]
  },
  {
   "cell_type": "code",
   "execution_count": null,
   "metadata": {},
   "outputs": [],
   "source": []
  },
  {
   "cell_type": "markdown",
   "metadata": {},
   "source": [
    "## Combining and comparing the results\n",
    "\n",
    "Finding correlation between national and Inside Airbnb data"
   ]
  },
  {
   "cell_type": "code",
   "execution_count": null,
   "metadata": {},
   "outputs": [],
   "source": []
  },
  {
   "cell_type": "markdown",
   "metadata": {},
   "source": [
    "## Conclusion\n",
    "\n",
    "One interesting challenge with this project was to gather data from website in other languages. German was still okay for us - even if the vocabulary was quite technical sometimes. Gathering data from a dutch website was more challenging, but automatic translation tools helped us.\n",
    "\n",
    "In this work, we learned that […]"
   ]
  },
  {
   "cell_type": "code",
   "execution_count": null,
   "metadata": {},
   "outputs": [],
   "source": []
  }
 ],
 "metadata": {
  "kernelspec": {
   "display_name": "Python 3",
   "language": "python",
   "name": "python3"
  },
  "language_info": {
   "codemirror_mode": {
    "name": "ipython",
    "version": 3
   },
   "file_extension": ".py",
   "mimetype": "text/x-python",
   "name": "python",
   "nbconvert_exporter": "python",
   "pygments_lexer": "ipython3",
   "version": "3.6.2"
  }
 },
 "nbformat": 4,
 "nbformat_minor": 2
}
