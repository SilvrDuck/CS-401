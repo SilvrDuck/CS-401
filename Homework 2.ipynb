{
 "cells": [
  {
   "cell_type": "markdown",
   "metadata": {},
   "source": [
    "### Homework 2 - Data from the Web"
   ]
  },
  {
   "cell_type": "markdown",
   "metadata": {},
   "source": [
    "#### 1. Extract data"
   ]
  },
  {
   "cell_type": "markdown",
   "metadata": {},
   "source": [
    "Obtain the 200 top-ranking universities in www.topuniversities.com (ranking 2018). In particular, extract the following fields for each university: name, rank, country and region, number of faculty members (international and total) and number of students (international and total). Some information is not available in the main list and you have to find them in the details page. Store the resulting dataset in a pandas DataFrame."
   ]
  },
  {
   "cell_type": "code",
   "execution_count": 1,
   "metadata": {},
   "outputs": [],
   "source": [
    "%matplotlib inline  \n",
    "import requests\n",
    "import pandas as pd\n",
    "import json\n",
    "from bs4 import BeautifulSoup\n",
    "import matplotlib.pyplot as plt\n",
    "\n",
    "SOURCE=\"www.topuniversities.com\"\n",
    "LIST=SOURCE + \"/university-rankings/world-university-rankings/2018\"\n",
    "DATA_SOURCE=\"www.topuniversities.com/sites/default/files/qs-rankings-data/357051.txt\"\n",
    "\n",
    "LIMIT=200"
   ]
  },
  {
   "cell_type": "code",
   "execution_count": 2,
   "metadata": {},
   "outputs": [],
   "source": [
    "def clean_numerical_data(data):\n",
    "    return int(data.replace('\\n', '').replace(',', ''))\n",
    "\n",
    "def safe_parse(page, selector):\n",
    "    try:\n",
    "        return clean_numerical_data(page.select(selector)[0].text)\n",
    "    except:\n",
    "        return None"
   ]
  },
  {
   "cell_type": "code",
   "execution_count": 3,
   "metadata": {},
   "outputs": [],
   "source": [
    "def extract_faculty_members(page):\n",
    "    total = safe_parse(page, \"div.total.faculty div.number\")\n",
    "    international = safe_parse(page, \"div.inter.faculty div.number\")\n",
    "    return total, international\n",
    "    \n",
    "def extract_student_members(page):\n",
    "    total = safe_parse(page, \"div.total.student div.number\")\n",
    "    international = safe_parse(page, \"div.total.inter  div.number\")\n",
    "    return total, international\n",
    "\n",
    "def extract_data(university):\n",
    "    url = SOURCE + university['url']\n",
    "    data = requests.get(\"http://\" + url).text\n",
    "    page = BeautifulSoup(data, \"html5lib\")\n",
    "    \n",
    "    total_faculty, inter_faculty = extract_faculty_members(page)\n",
    "    total_student, inter_student = extract_student_members(page)\n",
    "    \n",
    "    university['total_faculty'] = total_faculty\n",
    "    university['inter_faculty'] = inter_faculty\n",
    "    university['total_student'] = total_student\n",
    "    university['inter_student'] = inter_student\n",
    "    \n",
    "    return university"
   ]
  },
  {
   "cell_type": "code",
   "execution_count": 4,
   "metadata": {},
   "outputs": [],
   "source": [
    "def extract_list(url):\n",
    "    data = requests.get(\"http://\" + url).text\n",
    "    return json.loads(data)['data']\n",
    "    \n",
    "university_list = extract_list(DATA_SOURCE)[:LIMIT]"
   ]
  },
  {
   "cell_type": "code",
   "execution_count": 5,
   "metadata": {},
   "outputs": [],
   "source": [
    "university_list = [extract_data(university) for university in university_list]"
   ]
  },
  {
   "cell_type": "code",
   "execution_count": 6,
   "metadata": {},
   "outputs": [],
   "source": [
    "KEEP = ['title', 'rank_display', 'cc', 'region', 'total_faculty', 'total_student', 'inter_faculty', 'inter_student']\n",
    "university_list = [ {key: university[key] for key in KEEP} for university in university_list]"
   ]
  },
  {
   "cell_type": "code",
   "execution_count": 7,
   "metadata": {},
   "outputs": [],
   "source": [
    "df = pd.DataFrame(university_list)"
   ]
  },
  {
   "cell_type": "markdown",
   "metadata": {},
   "source": [
    "#### 1.b Which are the best universities in term of:"
   ]
  },
  {
   "cell_type": "markdown",
   "metadata": {},
   "source": [
    "##### (a) ratio between faculty members and students"
   ]
  },
  {
   "cell_type": "markdown",
   "metadata": {},
   "source": [
    "There are two possible ratio that can be used to answer this question, we can either use the **total** statistics or the **international** ones, we though it is more meaningful to use the **total** to answers this question "
   ]
  },
  {
   "cell_type": "code",
   "execution_count": 8,
   "metadata": {},
   "outputs": [
    {
     "data": {
      "text/plain": [
       "<matplotlib.axes._subplots.AxesSubplot at 0x7f0a349a6da0>"
      ]
     },
     "execution_count": 8,
     "metadata": {},
     "output_type": "execute_result"
    },
    {
     "data": {
      "image/png": "[encoded data removed]",
      "text/plain": [
       "<matplotlib.figure.Figure at 0x7f0a349a6390>"
      ]
     },
     "metadata": {},
     "output_type": "display_data"
    }
   ],
   "source": [
    "def staff_student_ratio(df):\n",
    "    df['ratio_faculty_student'] = df['total_faculty'] / df['total_student']\n",
    "    return df.sort_values('ratio_faculty_student', ascending=False)\n",
    "\n",
    "staff_student_ratio(df)['ratio_faculty_student'].head().plot(kind='bar', figsize=(8,8))"
   ]
  },
  {
   "cell_type": "markdown",
   "metadata": {},
   "source": [
    "We see that universities with the best ratio between faculty staff and students are located in the US or in GB but that this metric is not closely linked with the rank of the university\n",
    "\n",
    "##### (b) ratio of international students?"
   ]
  },
  {
   "cell_type": "code",
   "execution_count": 9,
   "metadata": {},
   "outputs": [
    {
     "data": {
      "text/plain": [
       "<matplotlib.axes._subplots.AxesSubplot at 0x7f0a3498ab38>"
      ]
     },
     "execution_count": 9,
     "metadata": {},
     "output_type": "execute_result"
    },
    {
     "data": {
      "image/png": "[encoded data removed]",
      "text/plain": [
       "<matplotlib.figure.Figure at 0x7f0a349bb5f8>"
      ]
     },
     "metadata": {},
     "output_type": "display_data"
    }
   ],
   "source": [
    "def inter_student_ratio(df):\n",
    "    df['ratio_inter_student'] = df['inter_student'] / df['total_student']\n",
    "    return df.sort_values('ratio_inter_student', ascending=False)\n",
    "\n",
    "inter_student_ratio(df)['ratio_inter_student'].head().plot(kind='bar', figsize = (8,8))"
   ]
  },
  {
   "cell_type": "markdown",
   "metadata": {},
   "source": [
    "Here, we can see that the most international university are mostly located in Europe.\n",
    "\n",
    "We now need to compute the same ratio, but this time, we'll add some aggregation\n",
    "\n",
    "##### Country aggregation"
   ]
  },
  {
   "cell_type": "code",
   "execution_count": 10,
   "metadata": {},
   "outputs": [],
   "source": [
    "df_country = df.groupby('cc')['inter_faculty', 'inter_student', 'total_faculty', 'total_student'].sum()"
   ]
  },
  {
   "cell_type": "code",
   "execution_count": 11,
   "metadata": {},
   "outputs": [
    {
     "data": {
      "text/plain": [
       "<matplotlib.axes._subplots.AxesSubplot at 0x7f0a331a16a0>"
      ]
     },
     "execution_count": 11,
     "metadata": {},
     "output_type": "execute_result"
    },
    {
     "data": {
      "image/png": "[encoded data removed]",
      "text/plain": [
       "<matplotlib.figure.Figure at 0x7f0a33edbf28>"
      ]
     },
     "metadata": {},
     "output_type": "display_data"
    }
   ],
   "source": [
    "staff_student_ratio(df_country)['ratio_faculty_student'].head().plot(kind='bar', figsize=(7, 7))"
   ]
  },
  {
   "cell_type": "code",
   "execution_count": 12,
   "metadata": {},
   "outputs": [
    {
     "data": {
      "text/plain": [
       "<matplotlib.axes._subplots.AxesSubplot at 0x7f0a34162cf8>"
      ]
     },
     "execution_count": 12,
     "metadata": {},
     "output_type": "execute_result"
    },
    {
     "data": {
      "image/png": "[encoded data removed]",
      "text/plain": [
       "<matplotlib.figure.Figure at 0x7f0a33ef7c50>"
      ]
     },
     "metadata": {},
     "output_type": "display_data"
    }
   ],
   "source": [
    "inter_student_ratio(df_country)['ratio_inter_student'].head().plot(kind='bar', figsize=(7, 7))"
   ]
  },
  {
   "cell_type": "markdown",
   "metadata": {},
   "source": [
    "##### Region aggregation"
   ]
  },
  {
   "cell_type": "code",
   "execution_count": 13,
   "metadata": {},
   "outputs": [],
   "source": [
    "df_region = df.groupby('region')['inter_faculty', 'inter_student', 'total_faculty', 'total_student'].sum()"
   ]
  },
  {
   "cell_type": "code",
   "execution_count": 14,
   "metadata": {},
   "outputs": [
    {
     "data": {
      "text/plain": [
       "<matplotlib.axes._subplots.AxesSubplot at 0x7f0a3324bd68>"
      ]
     },
     "execution_count": 14,
     "metadata": {},
     "output_type": "execute_result"
    },
    {
     "data": {
      "image/png": "[encoded data removed]",
      "text/plain": [
       "<matplotlib.figure.Figure at 0x7f0a33d18d30>"
      ]
     },
     "metadata": {},
     "output_type": "display_data"
    }
   ],
   "source": [
    "staff_student_ratio(df_region)['ratio_faculty_student'].head().plot(kind='bar',  figsize=(7, 7))"
   ]
  },
  {
   "cell_type": "code",
   "execution_count": 15,
   "metadata": {},
   "outputs": [
    {
     "data": {
      "text/plain": [
       "<matplotlib.axes._subplots.AxesSubplot at 0x7f0a340ded68>"
      ]
     },
     "execution_count": 15,
     "metadata": {},
     "output_type": "execute_result"
    },
    {
     "data": {
      "image/png": "[encoded data removed]",
      "text/plain": [
       "<matplotlib.figure.Figure at 0x7f0a341016d8>"
      ]
     },
     "metadata": {},
     "output_type": "display_data"
    }
   ],
   "source": [
    "inter_student_ratio(df_region)['inter_student'].head().plot(kind='bar', figsize=(8,8))"
   ]
  },
  {
   "cell_type": "code",
   "execution_count": 16,
   "metadata": {},
   "outputs": [
    {
     "name": "stdout",
     "output_type": "stream",
     "text": [
      "HW00 - Gunshot Deaths.ipynb  Homework 2.ipynb  datasets\r\n",
      "Homework 1.ipynb\t     README.md\r\n"
     ]
    }
   ],
   "source": [
    "!ls"
   ]
  },
  {
   "cell_type": "code",
   "execution_count": null,
   "metadata": {},
   "outputs": [],
   "source": []
  }
 ],
 "metadata": {
  "kernelspec": {
   "display_name": "Python 3",
   "language": "python",
   "name": "python3"
  },
  "language_info": {
   "codemirror_mode": {
    "name": "ipython",
    "version": 3
   },
   "file_extension": ".py",
   "mimetype": "text/x-python",
   "name": "python",
   "nbconvert_exporter": "python",
   "pygments_lexer": "ipython3",
   "version": "3.6.2"
  }
 },
 "nbformat": 4,
 "nbformat_minor": 2
}
