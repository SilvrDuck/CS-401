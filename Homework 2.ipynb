{
 "cells": [
  {
   "cell_type": "markdown",
   "metadata": {},
   "source": [
    "### Homework 2 - Data from the Web"
   ]
  },
  {
   "cell_type": "markdown",
   "metadata": {},
   "source": [
    "#### 1. Extract data"
   ]
  },
  {
   "cell_type": "markdown",
   "metadata": {},
   "source": [
    "Obtain the 200 top-ranking universities in www.topuniversities.com (ranking 2018). In particular, extract the following fields for each university: name, rank, country and region, number of faculty members (international and total) and number of students (international and total). Some information is not available in the main list and you have to find them in the details page. Store the resulting dataset in a pandas DataFrame."
   ]
  },
  {
   "cell_type": "code",
   "execution_count": null,
   "metadata": {
    "collapsed": true
   },
   "outputs": [],
   "source": [
    "%matplotlib inline  \n",
    "import requests\n",
    "import pandas as pd\n",
    "import json\n",
    "import difflib\n",
    "from bs4 import BeautifulSoup\n",
    "import matplotlib.pyplot as plt\n",
    "\n",
    "SOURCE=\"www.topuniversities.com\"\n",
    "LIST=SOURCE + \"/university-rankings/world-university-rankings/2018\"\n",
    "DATA_SOURCE=\"www.topuniversities.com/sites/default/files/qs-rankings-data/357051.txt\"\n",
    "\n",
    "LIMIT=200"
   ]
  },
  {
   "cell_type": "code",
   "execution_count": null,
   "metadata": {
    "collapsed": true
   },
   "outputs": [],
   "source": [
    "# Some helpers used to clean data from scrapping\n",
    "def clean_numerical_data(data):\n",
    "    return int(data.replace('\\n', '').replace(',', ''))\n",
    "\n",
    "def clean_percentage_data(data):\n",
    "    return int(data.replace('%', '')) / 100\n",
    "\n",
    "def safe_parse(page, selector):\n",
    "    try:\n",
    "        return clean_numerical_data(page.select(selector)[0].text)\n",
    "    except:\n",
    "        return None"
   ]
  },
  {
   "cell_type": "code",
   "execution_count": null,
   "metadata": {
    "collapsed": true
   },
   "outputs": [],
   "source": [
    "# Here we use CSS Selector to easily extract data from web pages\n",
    "def extract_faculty_members(page):\n",
    "    total = safe_parse(page, \"div.total.faculty div.number\")\n",
    "    international = safe_parse(page, \"div.inter.faculty div.number\")\n",
    "    return total, international\n",
    "    \n",
    "def extract_student_members(page):\n",
    "    total = safe_parse(page, \"div.total.student div.number\")\n",
    "    international = safe_parse(page, \"div.total.inter  div.number\")\n",
    "    return total, international\n",
    "\n",
    "def extract_data(university):\n",
    "    url = SOURCE + university['url']\n",
    "    data = requests.get(\"http://\" + url).text\n",
    "    page = BeautifulSoup(data, \"html5lib\")\n",
    "    \n",
    "    total_faculty, inter_faculty = extract_faculty_members(page)\n",
    "    total_student, inter_student = extract_student_members(page)\n",
    "\n",
    "    university['total_faculty'] = total_faculty\n",
    "    university['inter_faculty'] = inter_faculty\n",
    "    university['total_student'] = total_student\n",
    "    university['inter_student'] = inter_student\n",
    "    \n",
    "    return university"
   ]
  },
  {
   "cell_type": "code",
   "execution_count": null,
   "metadata": {
    "collapsed": true
   },
   "outputs": [],
   "source": [
    "# Extract JSON from url, retrieve only data\n",
    "def extract_list(url):\n",
    "    data = requests.get(\"http://\" + url).text\n",
    "    return json.loads(data)['data']\n",
    "    \n",
    "university_list = extract_list(DATA_SOURCE)[:LIMIT]"
   ]
  },
  {
   "cell_type": "code",
   "execution_count": null,
   "metadata": {
    "collapsed": true
   },
   "outputs": [],
   "source": [
    "university_list = [extract_data(university) for university in university_list]"
   ]
  },
  {
   "cell_type": "code",
   "execution_count": null,
   "metadata": {
    "collapsed": true
   },
   "outputs": [],
   "source": [
    "KEEP_TOP = ['title', 'rank_display', 'cc', 'region', 'total_faculty', 'total_student', 'inter_faculty', 'inter_student']\n",
    "university_list = [ {key: university[key] for key in KEEP_TOP} for university in university_list]"
   ]
  },
  {
   "cell_type": "code",
   "execution_count": null,
   "metadata": {},
   "outputs": [],
   "source": [
    "df_top = pd.DataFrame(university_list)\n",
    "df_top.index = df_top['title']\n",
    "df_top"
   ]
  },
  {
   "cell_type": "markdown",
   "metadata": {},
   "source": [
    "#### 1.b Which are the best universities in term of:"
   ]
  },
  {
   "cell_type": "markdown",
   "metadata": {},
   "source": [
    "##### (a) ratio between faculty members and students"
   ]
  },
  {
   "cell_type": "markdown",
   "metadata": {},
   "source": [
    "There are two possible ratio that can be used to answer this question, we can either use the **total** statistics or the **international** ones, we though it is more meaningful to use the **total** to answers this question "
   ]
  },
  {
   "cell_type": "code",
   "execution_count": null,
   "metadata": {},
   "outputs": [],
   "source": [
    "def staff_student_ratio(df):\n",
    "    df['ratio_faculty_student'] = df['total_student'] /  df['total_faculty']\n",
    "    return df.sort_values('ratio_faculty_student')\n",
    "\n",
    "staff_student_ratio(df_top)['ratio_faculty_student'].head().plot(kind='bar', figsize=(7,7), title=\"Ratio of student per staff member\")"
   ]
  },
  {
   "cell_type": "markdown",
   "metadata": {},
   "source": [
    "We see that universities with the best ratio between faculty staff and students are located in the US or in GB but that this metric is not closely linked with the rank of the university\n",
    "\n",
    "##### (b) ratio of international students?"
   ]
  },
  {
   "cell_type": "code",
   "execution_count": null,
   "metadata": {},
   "outputs": [],
   "source": [
    "def inter_staff_ratio(df):\n",
    "    df['ratio_inter_staff'] = df['inter_faculty'] / df['total_faculty']\n",
    "    \n",
    "def inter_student_ratio(df):\n",
    "    df['ratio_inter_student'] = df['inter_student'] / df['total_student']\n",
    "    return df.sort_values('ratio_inter_student', ascending=False)\n",
    "\n",
    "inter_student_ratio(df_top)['ratio_inter_student'].head().plot(kind='bar', figsize = (7,7), title=\"Ratio of international student\")\n",
    "inter_staff_ratio(df_top)"
   ]
  },
  {
   "cell_type": "markdown",
   "metadata": {},
   "source": [
    "Here, we can see that the most international university are mostly located in Europe.\n",
    "\n",
    "We now need to compute the same ratio, but this time, we'll add some aggregation\n",
    "\n",
    "##### Country aggregation\n",
    "\n",
    "The first aggregation we want to perform is aggretion by country, we simply `groupby` the dataframe using the **cc** column and then call the same methods previously created (`staff_student_ratio` and `inter_student_ratio`)"
   ]
  },
  {
   "cell_type": "code",
   "execution_count": null,
   "metadata": {
    "collapsed": true
   },
   "outputs": [],
   "source": [
    "df_country = df_top.groupby('cc')['inter_faculty', 'inter_student', 'total_faculty', 'total_student'].sum()"
   ]
  },
  {
   "cell_type": "code",
   "execution_count": null,
   "metadata": {},
   "outputs": [],
   "source": [
    "staff_student_ratio(df_country)['ratio_faculty_student'].head().plot(kind='bar', figsize=(7, 7), title=\"Proportion of student per staff member by Country\")"
   ]
  },
  {
   "cell_type": "code",
   "execution_count": null,
   "metadata": {},
   "outputs": [],
   "source": [
    "inter_student_ratio(df_country)['ratio_inter_student'].head().plot(kind='bar', figsize=(7, 7), title=\"Ratio of international student per country\")"
   ]
  },
  {
   "cell_type": "markdown",
   "metadata": {},
   "source": [
    "##### Region aggregation\n",
    "\n",
    "The second aggregation we want to perform is an aggregation by region, same as before, we simply `groupby` and call the methods on the newly created dataframe."
   ]
  },
  {
   "cell_type": "code",
   "execution_count": null,
   "metadata": {
    "collapsed": true
   },
   "outputs": [],
   "source": [
    "df_region = df_top.groupby('region')['inter_faculty', 'inter_student', 'total_faculty', 'total_student'].sum()"
   ]
  },
  {
   "cell_type": "code",
   "execution_count": null,
   "metadata": {},
   "outputs": [],
   "source": [
    "staff_student_ratio(df_region)['ratio_faculty_student'].head().plot(kind='bar',  figsize=(7, 7), title=\"Proportion of student per faculty member by region\")"
   ]
  },
  {
   "cell_type": "code",
   "execution_count": null,
   "metadata": {},
   "outputs": [],
   "source": [
    "inter_student_ratio(df_region)['ratio_inter_student'].head().plot(kind='bar', figsize=(7,7), title=\"Ratio of international student per region\")"
   ]
  },
  {
   "cell_type": "markdown",
   "metadata": {},
   "source": [
    "### Data from timeshighereducation\n",
    "\n",
    "Obtain the 200 top-ranking universities in www.timeshighereducation.com (ranking 2018). Repeat the analysis of the previous point and discuss briefly what you observed."
   ]
  },
  {
   "cell_type": "code",
   "execution_count": null,
   "metadata": {
    "collapsed": true
   },
   "outputs": [],
   "source": [
    "SOURCE=\"www.timeshighereducation.com/sites/default/files/the_data_rankings/world_university_rankings_2018_limit0_369a9045a203e176392b9fb8f8c1cb2a.json\"\n",
    "university_list_2 = extract_list(SOURCE)[:LIMIT]"
   ]
  },
  {
   "cell_type": "code",
   "execution_count": null,
   "metadata": {
    "collapsed": true
   },
   "outputs": [],
   "source": [
    "df_times = pd.DataFrame(university_list_2)\n",
    "\n",
    "df_times['total_student'] = df_times['stats_number_students'].apply(clean_numerical_data)\n",
    "df_times['ratio_faculty_student'] = df_times['stats_student_staff_ratio'].apply(float)\n",
    "df_times['ratio_inter_student'] = df_times['stats_pc_intl_students'].apply(clean_percentage_data)\n",
    "df_times['title'] = df_times['name']\n",
    "df_times['rank_display'] = df_times['rank']\n",
    "df_times['cc'] = df_times['location']\n",
    "\n",
    "KEEP_TIMES = ['title', 'rank_display', 'cc', 'total_student', 'ratio_faculty_student', 'ratio_inter_student', 'scores_international_outlook_rank']\n",
    "df_times = df_times[KEEP_TIMES]\n",
    "df_times.index = df_times['title']"
   ]
  },
  {
   "cell_type": "markdown",
   "metadata": {},
   "source": [
    "Here we graph the same data we plotted for the topuniversities ranking, except that we don't have the region for each university, one way we could fix that is to find the region for a given country code."
   ]
  },
  {
   "cell_type": "code",
   "execution_count": null,
   "metadata": {},
   "outputs": [],
   "source": [
    "df_times.sort_values('ratio_inter_student', ascending=False)['ratio_inter_student'].head().plot(kind='bar', figsize = (7,7), title=\"Ratio of international student\")"
   ]
  },
  {
   "cell_type": "markdown",
   "metadata": {},
   "source": [
    "For this metric, we get almost the same data as from topuniversities, except for Luxembourg, because it has a rank greater than 200 according to TopUniversities"
   ]
  },
  {
   "cell_type": "code",
   "execution_count": null,
   "metadata": {},
   "outputs": [],
   "source": [
    "df_times.sort_values('ratio_faculty_student')['ratio_faculty_student'].head().plot(kind='bar', figsize = (7,7), title=\"Ratio of student per faculty member\")"
   ]
  },
  {
   "cell_type": "markdown",
   "metadata": {},
   "source": [
    "Here we have some different result, some university have a much better ratio according to timeshigherrank than with topuniversities.\n",
    "We now are going to compare those metric aggregated by country:"
   ]
  },
  {
   "cell_type": "code",
   "execution_count": null,
   "metadata": {
    "collapsed": true
   },
   "outputs": [],
   "source": [
    "df_times_country = df_times.groupby('cc')['ratio_faculty_student', 'ratio_inter_student'].median()"
   ]
  },
  {
   "cell_type": "code",
   "execution_count": null,
   "metadata": {},
   "outputs": [],
   "source": [
    "df_times_country.sort_values('ratio_faculty_student')['ratio_faculty_student'].head().plot(kind='bar',  figsize=(7, 7), title=\"Proportion of student per faculty member by region\")"
   ]
  },
  {
   "cell_type": "markdown",
   "metadata": {},
   "source": [
    "The university name matching is the hardest part of this homework we decided to make it as concervative as possible (that is to say, we decided to have quality matches over the number of matches), we proceeded in a few steps:\n",
    " - The first step is to remove common name in all title (University, Technology, ...) but simply removing them would lead to mismatch (for instance if California Institute of Technologie and University of California, only California would remain and match the two together, even if there are not the same). To avoid this issue, we simply replace each of this term by a integer (that would not make many difference when we compute the distance between two words)\n",
    " - Then, we mapped this stripped name from one dataframe to the stripped names of the other dataframe, the first thing is to look for exact matches (and there are many of them), then we use the `difflib.get_close_matches` function to retrieve the closest match. Unfortunately we had lot's of mismatches and this is why we decided to do a reverse matching.\n",
    " - The reverse match works as follow: once we found the closest match (let's call it RESULT) from dataframe ONE to dataframe TWO, we find the closest match of RESULT into dataframe ONE, if this is equals to the original name, then it's a match.\n",
    " \n",
    " Using this technique, all the matches we have are correct, but we only have 152 out of 200 universities, we can explain this by many ways:\n",
    "  - The university is above 200 in one ranking and below in the other (many cases)\n",
    "  - University name are written using acronymes in one ranking and in with the full name in the other\n",
    "  - German names (Munchen, Munich)\n"
   ]
  },
  {
   "cell_type": "code",
   "execution_count": null,
   "metadata": {
    "collapsed": true,
    "scrolled": false
   },
   "outputs": [],
   "source": [
    "import re\n",
    "# Here we remove some very commons words that reduce the \"uniqueness\" of the name\n",
    "def remove_common_word(word):\n",
    "    return re.sub(r'\\(.*\\)', '', word).replace('University', '0').replace('Technology', '1').replace('Institute', '2').replace(' of ', ' ').replace('Scuola', '').replace(' the ', ' ').rstrip().lstrip().lower()\n",
    "\n",
    "# There are many ways to perform the matching, but sometimes, it's simply not possible\n",
    "# This is the case for instance for the University of Paris-Sud, which is not in the < 200 ranking according to topuniversities\n",
    "# Or luxembourg (which is not even in the list)\n",
    "def match_university_name(name, currents, others):\n",
    "    tmp = [x for x in others if  name == x]\n",
    "    if len(tmp): return tmp[0]\n",
    "    \n",
    "    matches = difflib.get_close_matches(name, others)\n",
    "    result = 'undefined'\n",
    "    if len(matches) != 0:\n",
    "        tmp = matches[0]\n",
    "        match_reverse = difflib.get_close_matches(tmp, currents)\n",
    "        if len(match_reverse):\n",
    "            if match_reverse[0] == name:\n",
    "                result = tmp\n",
    "\n",
    "    return result\n",
    "\n",
    "df_top['cleared_title'] =  df_top['title'].apply(lambda x: remove_common_word(x))\n",
    "df_times['cleared_title'] = df_times['title'].apply(lambda x: remove_common_word(x))\n",
    "\n",
    "df_times['title_mapped'] = df_times['cleared_title'].map(lambda x: match_university_name(x, df_times['cleared_title'],df_top['cleared_title']))\n",
    "df_top['title_mapped'] =  df_top['cleared_title'] \n",
    "\n",
    "df_times.index = df_times['title_mapped']\n",
    "df_top.index = df_top['title_mapped']"
   ]
  },
  {
   "cell_type": "code",
   "execution_count": null,
   "metadata": {
    "collapsed": true
   },
   "outputs": [],
   "source": [
    "df_join = df_times.join(df_top, on='title_mapped', how='inner', lsuffix='_times', rsuffix='_top')\n",
    "df_join[ 'scores_international_outlook_rank'] = df_join[ 'scores_international_outlook_rank'].apply(pd.to_numeric)"
   ]
  },
  {
   "cell_type": "markdown",
   "metadata": {},
   "source": [
    "**when a university is strong in its international dimension, can you observe a consistency both for students and faculty members**"
   ]
  },
  {
   "cell_type": "code",
   "execution_count": null,
   "metadata": {},
   "outputs": [],
   "source": [
    "df_corr= df_join[['ratio_inter_student_times', 'ratio_inter_staff', 'scores_international_outlook_rank']]\n",
    "df_corr.corr()"
   ]
  },
  {
   "cell_type": "markdown",
   "metadata": {},
   "source": [
    "Here we calculated the correlation between the ratio of international students versus the international university rank, and the ratio of international staff member versus the international university rank. The correlations for both ratio are close to -70%, when the international ratio increases, the rank decreases. It seems to be consistent because more international students/staffs a university has, the better its international rank is. This alsoshows us that the international ranking of an university is more correlated to the number of students than to the number of staffs in the university. Still we cannot be sure of that because our dataset is limited to 200 entries and both result are close to -70%."
   ]
  },
  {
   "cell_type": "code",
   "execution_count": null,
   "metadata": {},
   "outputs": [],
   "source": [
    "df_corr = df_join[['ratio_inter_student_times', 'ratio_inter_staff', 'rank_display_times']].copy()\n",
    "df_corr['rank'] = df_corr['rank_display_times'].map(lambda x: int(x.replace('=', '')))\n",
    "df_corr.corr()"
   ]
  },
  {
   "cell_type": "markdown",
   "metadata": {},
   "source": [
    "Here we do not take the international ranking into account, but  the global one. This time the rank is not enough correlated to the ratio of international students or staffs in the university to be able to conclude anything."
   ]
  },
  {
   "cell_type": "markdown",
   "metadata": {},
   "source": [
    "#### Can you find the best university taking in consideration both rankings? Explain your approach.\n",
    "\n",
    "We decided to simply take the average of both global ranks because we thought it was more relevant as they are probable already computed from the other features of the university."
   ]
  },
  {
   "cell_type": "code",
   "execution_count": null,
   "metadata": {},
   "outputs": [],
   "source": [
    "df_rank = df_join[['rank_display_top', 'rank_display_times']].copy()\n",
    "df_rank.index = df_join['title_times']\n",
    "df_rank['rank_display_top'] = df_rank['rank_display_top'].apply(lambda x: int(x.replace('=', '')))\n",
    "df_rank['rank_display_times'] = df_rank['rank_display_times'].apply(lambda x: int(x.replace('=', '')))\n",
    "df_rank['avg'] = df_rank.mean(axis=1)\n",
    "\n",
    "df_rank.sort_values('avg').head()"
   ]
  },
  {
   "cell_type": "markdown",
   "metadata": {},
   "source": [
    "Hence, according to this average, the best university would be Stanford University, EPFL would be number 12 "
   ]
  },
  {
   "cell_type": "code",
   "execution_count": null,
   "metadata": {
    "collapsed": true
   },
   "outputs": [],
   "source": []
  }
 ],
 "metadata": {
  "kernelspec": {
   "display_name": "Python 3",
   "language": "python",
   "name": "python3"
  },
  "language_info": {
   "codemirror_mode": {
    "name": "ipython",
    "version": 3
   },
   "file_extension": ".py",
   "mimetype": "text/x-python",
   "name": "python",
   "nbconvert_exporter": "python",
   "pygments_lexer": "ipython3",
   "version": "3.6.1"
  }
 },
 "nbformat": 4,
 "nbformat_minor": 2
}
